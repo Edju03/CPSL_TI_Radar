{
 "cells": [
  {
   "cell_type": "code",
   "execution_count": 1,
   "metadata": {},
   "outputs": [],
   "source": [
    "# import the relevant classes\n",
    "from Radar import Radar"
   ]
  },
  {
   "attachments": {},
   "cell_type": "markdown",
   "metadata": {},
   "source": [
    "# Search for comm ports corresponding to the device\n",
    "The following lines of code can be used to search for and identify the comm ports corresponding to the mmWave Radars. Additionally, note the following when dealing with a linux device:\n",
    "1. to locate the serial ports, use the commnad: \"ls /dev/ttyACM*\" to find the serial ports\n",
    "2. if there is an error saying that access is denied, use the command \"sudo usermod -a -G dialout $USER\""
   ]
  },
  {
   "cell_type": "code",
   "execution_count": 2,
   "metadata": {},
   "outputs": [
    {
     "name": "stdout",
     "output_type": "stream",
     "text": [
      "['/dev/ttyACM1', '/dev/ttyACM0']\n"
     ]
    }
   ],
   "source": [
    "import serial.tools.list_ports;\n",
    "print([comport.device for comport in serial.tools.list_ports.comports()])"
   ]
  },
  {
   "attachments": {},
   "cell_type": "markdown",
   "metadata": {},
   "source": [
    "# Run radar demo"
   ]
  },
  {
   "cell_type": "code",
   "execution_count": 5,
   "metadata": {},
   "outputs": [],
   "source": [
    "#optional data file to process instead of streaming to the sensor\n",
    "data_file = \"raw_data_samples/heatmap_scatterplot.dat\"\n",
    "\n",
    "#instantiate a new Radar class by supplying the required information\n",
    "radar = Radar(\n",
    "    config_file_name = \"configurations/radar_cfg_low_CFAR.cfg\",\n",
    "    translate_from_JSON = False,\n",
    "    enable_serial = True,\n",
    "    CLI_port = \"/dev/ttyACM0\",\n",
    "    Data_port = \"/dev/ttyACM1\",\n",
    "    enable_plotting = False,\n",
    "    jupyter = True,\n",
    "    data_file = data_file,\n",
    "    refresh_rate = 50.0,\n",
    "    verbose = False\n",
    ")\n",
    "\n",
    "#call the .stream() method to perform streaming\n",
    "radar.stream()"
   ]
  }
 ],
 "metadata": {
  "kernelspec": {
   "display_name": "base",
   "language": "python",
   "name": "python3"
  },
  "language_info": {
   "codemirror_mode": {
    "name": "ipython",
    "version": 3
   },
   "file_extension": ".py",
   "mimetype": "text/x-python",
   "name": "python",
   "nbconvert_exporter": "python",
   "pygments_lexer": "ipython3",
   "version": "3.9.16"
  },
  "orig_nbformat": 4,
  "vscode": {
   "interpreter": {
    "hash": "a05f93782d31fb45d30263a0389582a01d7e14abf3ec6aacde92652303ee35ce"
   }
  }
 },
 "nbformat": 4,
 "nbformat_minor": 2
}
