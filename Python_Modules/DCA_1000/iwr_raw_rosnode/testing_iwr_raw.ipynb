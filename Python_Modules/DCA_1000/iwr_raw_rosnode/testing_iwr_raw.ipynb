{
 "cells": [
  {
   "cell_type": "code",
   "execution_count": 1,
   "metadata": {},
   "outputs": [],
   "source": [
    "from radar_config import cfg_list_to_dict\n",
    "from mmWave_class import mmWave_Sensor\n",
    "import os"
   ]
  },
  {
   "cell_type": "code",
   "execution_count": 2,
   "metadata": {},
   "outputs": [],
   "source": [
    "#specify config and serial port to use\n",
    "cfgpath = \"/home/david/Documents/TI_Radar_Demo_Visualizer/configurations/DCA1000/iwr_raw_rosnode/14xx/indoor_human_rcs.cfg\"\n",
    "cmd_tty = \"/dev/ttyACM0\""
   ]
  },
  {
   "cell_type": "code",
   "execution_count": 3,
   "metadata": {},
   "outputs": [
    {
     "name": "stdout",
     "output_type": "stream",
     "text": [
      "{'numLanes': 4, 'rx4': True, 'rx3': True, 'rx2': True, 'rx1': True, 'numTx': 2, 'tx3': True, 'tx2': False, 'tx1': True, 'isComplex': True, 'image_band': False, 'profiles': [{'id': 0, 'start_frequency': 77000000000.0, 'idle': 5.8e-05, 'adcStartTime': 7e-06, 'rampEndTime': 3.9999999999999996e-05, 'txPower': 0.0, 'txPhaseShift': 0.0, 'freqSlopeConst': 100000000000000.0, 'txStartTime': 1e-06, 'adcSamples': 304, 'adcSampleRate': 9499000.0, 'hpfCornerFreq1': 0, 'hpfCornerFreq2': 0, 'rxGain': 30.0}], 'chirps': [{'chirpStartIndex': 0, 'chirpStopIndex': 0, 'profileID': 0, 'startFreqVariation': 0.0, 'slopeVariation': 0.0, 'idleVariation': 0.0, 'adcStartVariation': 0.0, 'chirptx3': False, 'chirptx2': False, 'chirptx1': True}, {'chirpStartIndex': 1, 'chirpStopIndex': 1, 'profileID': 0, 'startFreqVariation': 0.0, 'slopeVariation': 0.0, 'idleVariation': 0.0, 'adcStartVariation': 0.0, 'chirptx3': True, 'chirptx2': False, 'chirptx1': False}], 'numChirps': 64, 'fps': 30.00030000300003, 'adcPower': 'regular'}\n"
     ]
    }
   ],
   "source": [
    "#import the config file\n",
    "try:\n",
    "    with open(cfgpath) as cfg_file:\n",
    "        cmd_raw = cfg_file.readlines()\n",
    "        iwr_cfg_cmd = [x.strip() for x in cmd_raw]\n",
    "except IOError as e:\n",
    "    print(\"Unable to open config file: {}\".format(e.strerror))\n",
    "    print(\"Config should be a file in {}\".format(cfgpath))\n",
    "    raise\n",
    "\n",
    "#save config as a dictionary\n",
    "iwr_cfg_dict = cfg_list_to_dict(iwr_cfg_cmd)\n",
    "print(iwr_cfg_dict)"
   ]
  },
  {
   "cell_type": "code",
   "execution_count": 4,
   "metadata": {},
   "outputs": [],
   "source": [
    "#initialize mmWave_Sensor\n",
    "mmwave_sensor = mmWave_Sensor(iwr_cfg_dict=iwr_cfg_dict,iwr_cmd_tty=cmd_tty)"
   ]
  },
  {
   "cell_type": "code",
   "execution_count": 5,
   "metadata": {},
   "outputs": [],
   "source": [
    "test = b\"\\x5a\\xa5\\x0e\\x00\\x00\\x00\\xaa\\xee\""
   ]
  },
  {
   "cell_type": "code",
   "execution_count": 6,
   "metadata": {},
   "outputs": [
    {
     "name": "stdout",
     "output_type": "stream",
     "text": [
      "SET UP DCA\n",
      "3.10.6 (main, May 29 2023, 11:10:38) [GCC 11.3.0]\n",
      "timed out\n",
      "timed out\n",
      "timed out\n",
      "timed out\n",
      "timed out\n",
      "timed out\n",
      "timed out\n",
      "timed out\n",
      "timed out\n",
      "timed out\n",
      "timed out\n",
      "timed out\n",
      "timed out\n",
      "timed out\n",
      "timed out\n",
      "timed out\n",
      "timed out\n",
      "timed out\n",
      "timed out\n",
      "timed out\n",
      "timed out\n",
      "timed out\n",
      "timed out\n",
      "timed out\n",
      "timed out\n",
      "timed out\n",
      "timed out\n",
      "timed out\n",
      "timed out\n",
      "timed out\n",
      "timed out\n",
      "timed out\n"
     ]
    }
   ],
   "source": [
    "#configure DCA and IWR\n",
    "mmwave_sensor.setupDCA_and_cfgIWR()"
   ]
  }
 ],
 "metadata": {
  "kernelspec": {
   "display_name": "TI_Radar_GUI",
   "language": "python",
   "name": "python3"
  },
  "language_info": {
   "codemirror_mode": {
    "name": "ipython",
    "version": 3
   },
   "file_extension": ".py",
   "mimetype": "text/x-python",
   "name": "python",
   "nbconvert_exporter": "python",
   "pygments_lexer": "ipython3",
   "version": "3.10.6"
  },
  "orig_nbformat": 4
 },
 "nbformat": 4,
 "nbformat_minor": 2
}
