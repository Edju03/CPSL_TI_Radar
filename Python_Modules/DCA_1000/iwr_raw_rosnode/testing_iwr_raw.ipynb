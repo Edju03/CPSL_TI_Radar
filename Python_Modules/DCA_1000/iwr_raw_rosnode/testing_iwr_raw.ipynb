{
 "cells": [
  {
   "cell_type": "code",
   "execution_count": 1,
   "metadata": {},
   "outputs": [],
   "source": [
    "from radar_config import cfg_list_to_dict\n",
    "from mmWave_class import mmWave_Sensor\n",
    "import os"
   ]
  },
  {
   "cell_type": "code",
   "execution_count": 2,
   "metadata": {},
   "outputs": [],
   "source": [
    "#specify config and serial port to use\n",
    "cfgpath = \"/home/david/Documents/TI_Radar_Demo_Visualizer/configurations/DCA1000/iwr_raw_rosnode/14xx/indoor_human_rcs.cfg\"\n",
    "cmd_tty = \"/dev/ttyACM0\""
   ]
  },
  {
   "cell_type": "code",
   "execution_count": 3,
   "metadata": {},
   "outputs": [
    {
     "name": "stdout",
     "output_type": "stream",
     "text": [
      "{'numLanes': 4, 'rx4': True, 'rx3': True, 'rx2': True, 'rx1': True, 'numTx': 2, 'tx3': True, 'tx2': False, 'tx1': True, 'isComplex': True, 'image_band': False, 'profiles': [{'id': 0, 'start_frequency': 77000000000.0, 'idle': 5.8e-05, 'adcStartTime': 7e-06, 'rampEndTime': 3.9999999999999996e-05, 'txPower': 0.0, 'txPhaseShift': 0.0, 'freqSlopeConst': 100000000000000.0, 'txStartTime': 1e-06, 'adcSamples': 304, 'adcSampleRate': 9499000.0, 'hpfCornerFreq1': 0, 'hpfCornerFreq2': 0, 'rxGain': 30.0}], 'chirps': [{'chirpStartIndex': 0, 'chirpStopIndex': 0, 'profileID': 0, 'startFreqVariation': 0.0, 'slopeVariation': 0.0, 'idleVariation': 0.0, 'adcStartVariation': 0.0, 'chirptx3': False, 'chirptx2': False, 'chirptx1': True}, {'chirpStartIndex': 1, 'chirpStopIndex': 1, 'profileID': 0, 'startFreqVariation': 0.0, 'slopeVariation': 0.0, 'idleVariation': 0.0, 'adcStartVariation': 0.0, 'chirptx3': True, 'chirptx2': False, 'chirptx1': False}], 'numChirps': 64, 'fps': 30.00030000300003, 'adcPower': 'regular'}\n"
     ]
    }
   ],
   "source": [
    "#import the config file\n",
    "try:\n",
    "    with open(cfgpath) as cfg_file:\n",
    "        cmd_raw = cfg_file.readlines()\n",
    "        iwr_cfg_cmd = [x.strip() for x in cmd_raw]\n",
    "except IOError as e:\n",
    "    print(\"Unable to open config file: {}\".format(e.strerror))\n",
    "    print(\"Config should be a file in {}\".format(cfgpath))\n",
    "    raise\n",
    "\n",
    "#save config as a dictionary\n",
    "iwr_cfg_dict = cfg_list_to_dict(iwr_cfg_cmd)\n",
    "print(iwr_cfg_dict)"
   ]
  },
  {
   "cell_type": "code",
   "execution_count": 4,
   "metadata": {},
   "outputs": [],
   "source": [
    "#initialize mmWave_Sensor\n",
    "mmwave_sensor = mmWave_Sensor(iwr_cfg_dict=iwr_cfg_dict,iwr_cmd_tty=cmd_tty)"
   ]
  },
  {
   "cell_type": "code",
   "execution_count": 8,
   "metadata": {},
   "outputs": [],
   "source": [
    "test = b\"\\x5a\\xa5\\x0e\\x00\\x00\\x00\\xaa\\xee\""
   ]
  },
  {
   "cell_type": "code",
   "execution_count": 11,
   "metadata": {},
   "outputs": [
    {
     "name": "stdout",
     "output_type": "stream",
     "text": [
      "SET UP DCA\n",
      "3.10.12 | packaged by conda-forge | (main, Jun 23 2023, 22:40:32) [GCC 12.3.0]\n"
     ]
    },
    {
     "ename": "KeyboardInterrupt",
     "evalue": "",
     "output_type": "error",
     "traceback": [
      "\u001b[0;31m---------------------------------------------------------------------------\u001b[0m",
      "\u001b[0;31mKeyboardInterrupt\u001b[0m                         Traceback (most recent call last)",
      "Cell \u001b[0;32mIn[11], line 2\u001b[0m\n\u001b[1;32m      1\u001b[0m \u001b[39m#configure DCA and IWR\u001b[39;00m\n\u001b[0;32m----> 2\u001b[0m mmwave_sensor\u001b[39m.\u001b[39;49msetupDCA_and_cfgIWR()\n",
      "File \u001b[0;32m~/Documents/TI_Radar_Demo_Visualizer/Python Modules/DCA_1000/iwr_raw_rosnode/mmWave_class.py:127\u001b[0m, in \u001b[0;36mmmWave_Sensor.setupDCA_and_cfgIWR\u001b[0;34m(self)\u001b[0m\n\u001b[1;32m    125\u001b[0m \u001b[39mself\u001b[39m\u001b[39m.\u001b[39mcollect_response()\n\u001b[1;32m    126\u001b[0m \u001b[39mself\u001b[39m\u001b[39m.\u001b[39mdca_socket\u001b[39m.\u001b[39msendto(\u001b[39mself\u001b[39m\u001b[39m.\u001b[39mdca_cmd[\u001b[39m'\u001b[39m\u001b[39mREAD_FPGA_VERSION_CMD_CODE\u001b[39m\u001b[39m'\u001b[39m], \u001b[39mself\u001b[39m\u001b[39m.\u001b[39mdca_cmd_addr)\n\u001b[0;32m--> 127\u001b[0m \u001b[39mself\u001b[39;49m\u001b[39m.\u001b[39;49mcollect_response()\n\u001b[1;32m    128\u001b[0m \u001b[39mself\u001b[39m\u001b[39m.\u001b[39mdca_socket\u001b[39m.\u001b[39msendto(\u001b[39mself\u001b[39m\u001b[39m.\u001b[39mdca_cmd[\u001b[39m'\u001b[39m\u001b[39mCONFIG_FPGA_GEN_CMD_CODE\u001b[39m\u001b[39m'\u001b[39m], \u001b[39mself\u001b[39m\u001b[39m.\u001b[39mdca_cmd_addr)\n\u001b[1;32m    129\u001b[0m \u001b[39mself\u001b[39m\u001b[39m.\u001b[39mcollect_response()\n",
      "File \u001b[0;32m~/Documents/TI_Radar_Demo_Visualizer/Python Modules/DCA_1000/iwr_raw_rosnode/mmWave_class.py:86\u001b[0m, in \u001b[0;36mmmWave_Sensor.collect_response\u001b[0;34m(self)\u001b[0m\n\u001b[1;32m     84\u001b[0m \u001b[39mwhile\u001b[39;00m status:\n\u001b[1;32m     85\u001b[0m     \u001b[39mtry\u001b[39;00m:\n\u001b[0;32m---> 86\u001b[0m         msg, server \u001b[39m=\u001b[39m \u001b[39mself\u001b[39;49m\u001b[39m.\u001b[39;49mdca_socket\u001b[39m.\u001b[39;49mrecvfrom(\u001b[39m2048\u001b[39;49m)\n\u001b[1;32m     87\u001b[0m         \u001b[39mimport\u001b[39;00m \u001b[39mstruct\u001b[39;00m\n\u001b[1;32m     88\u001b[0m         (status,) \u001b[39m=\u001b[39m struct\u001b[39m.\u001b[39munpack(\u001b[39m'\u001b[39m\u001b[39m<H\u001b[39m\u001b[39m'\u001b[39m, msg[\u001b[39m4\u001b[39m:\u001b[39m6\u001b[39m])\n",
      "\u001b[0;31mKeyboardInterrupt\u001b[0m: "
     ]
    }
   ],
   "source": [
    "#configure DCA and IWR\n",
    "mmwave_sensor.setupDCA_and_cfgIWR()"
   ]
  }
 ],
 "metadata": {
  "kernelspec": {
   "display_name": "TI_Radar_GUI",
   "language": "python",
   "name": "python3"
  },
  "language_info": {
   "codemirror_mode": {
    "name": "ipython",
    "version": 3
   },
   "file_extension": ".py",
   "mimetype": "text/x-python",
   "name": "python",
   "nbconvert_exporter": "python",
   "pygments_lexer": "ipython3",
   "version": "3.10.12"
  },
  "orig_nbformat": 4
 },
 "nbformat": 4,
 "nbformat_minor": 2
}
