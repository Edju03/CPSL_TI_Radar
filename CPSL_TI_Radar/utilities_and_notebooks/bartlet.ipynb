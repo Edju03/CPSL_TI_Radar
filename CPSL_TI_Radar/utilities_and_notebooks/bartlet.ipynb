{
 "cells": [
  {
   "cell_type": "code",
   "execution_count": null,
   "metadata": {},
   "outputs": [],
   "source": [
    "import numpy as np\n",
    "import matplotlib.pyplot as plt\n",
    "import pandas as pd\n",
    "import time"
   ]
  },
  {
   "cell_type": "code",
   "execution_count": null,
   "metadata": {},
   "outputs": [],
   "source": [
    "L_rng_bins = 64\n",
    "M_antennas = 8\n",
    "N_chirps = 64\n",
    "\n",
    "angle_range = [-50,50]\n",
    "I_angle_bins = 64"
   ]
  },
  {
   "cell_type": "code",
   "execution_count": null,
   "metadata": {},
   "outputs": [],
   "source": [
    "#compute the angles that the AoA response should be measured at\n",
    "step = (angle_range[1] - angle_range[0]) / I_angle_bins\n",
    "angles_deg = np.arange(angle_range[0],angle_range[1],step)\n",
    "angles_rad = np.deg2rad(angles_deg)\n",
    "\n",
    "#functions to compute the a_phi vector at a given angle\n",
    "def compute_spatial_signature(angle_rad):\n",
    "\n",
    "    indicies = np.arange(0,M_antennas,dtype=np.float32)\n",
    "    spatial_signature = np.exp(1j * np.pi * indicies * np.sin(angle_rad))\n",
    "\n",
    "    return spatial_signature\n",
    "\n",
    "def compute_spatial_signatures(angles_rad):\n",
    "\n",
    "    spatial_signatures = np.zeros(shape=(I_angle_bins,M_antennas,1),dtype=np.complex_)\n",
    "\n",
    "    for i in range(len(angles_rad)):\n",
    "        spatial_signatures[i,:,0] = compute_spatial_signature(angles_rad[i])\n",
    "        # spatial_signatures[:,i] = spatial_signature\n",
    "    \n",
    "    return spatial_signatures\n",
    "\n",
    "a_phi = compute_spatial_signatures(angles_rad)\n",
    "a_phi_H = np.conj(np.transpose(a_phi,axes=(0,2,1)))"
   ]
  },
  {
   "cell_type": "code",
   "execution_count": null,
   "metadata": {},
   "outputs": [],
   "source": [
    "#get the ADC data cube\n",
    "#adc_data_cube = np.random.rand(L_rng_bins,M_antennas,N_chirps) + 1j * np.random.rand(L_rng_bins,M_antennas,N_chirps)\n",
    "adc_data_cube = np.load(\"/home/cpsl/data/radar/frame_10000.npy\")\n",
    "\n",
    "#convert to (range_bin, antenna, chirp)\n",
    "adc_data_cube = np.transpose(adc_data_cube,axes=(1,0,2))\n",
    "\n",
    "rng_fft = np.fft.fft(adc_data_cube,axis=0)\n",
    "\n",
    "# plt.imshow(20 * np.log10(np.abs(rng_fft[:,:,0])))\n",
    "\n",
    "# optional (for showing the FFT-based range azimuth response)\n",
    "az_fft = 20 * np.log10(np.abs(np.fft.fftshift(np.fft.fft(rng_fft, axis=1,n=64),axes=1)))\n",
    "plt.imshow(np.flip(az_fft[:,:,0],axis=0))\n",
    "plt.colorbar()"
   ]
  },
  {
   "cell_type": "code",
   "execution_count": null,
   "metadata": {},
   "outputs": [],
   "source": [
    "#computing bartlet response\n",
    "def compute_bartlet(adc_data_cube: np.ndarray):\n",
    "    \n",
    "    #compute the range_fft\n",
    "    # rng_fft = np.fft.fftshift(np.fft.fft(adc_data_cube,axis=0),axes=1)\n",
    "    rng_fft = np.fft.fft(adc_data_cube,axis=0)\n",
    "\n",
    "    p_bartlet = np.zeros(shape=(L_rng_bins,I_angle_bins),dtype=np.complex_)\n",
    "\n",
    "    for l in range(L_rng_bins):\n",
    "        # x_n = np.transpose(rng_fft[l,:,:,np.newaxis],axes=(1,0,2))\n",
    "        x_n = np.expand_dims(np.transpose(rng_fft[l,:,:]),axis=-1) #NxMx1\n",
    "        x_n_h = np.conj(np.transpose(x_n,axes=(0,2,1)))\n",
    "\n",
    "        Rxx = np.mean(np.matmul(x_n,x_n_h),axis=0)\n",
    "\n",
    "        p = a_phi_H @ Rxx @ a_phi\n",
    "\n",
    "        p_bartlet[l,:] = p[:,0,0]\n",
    "\n",
    "    return 20 * np.log10(np.abs(p_bartlet))\n",
    "\n",
    "p_bartlet = compute_bartlet(adc_data_cube)"
   ]
  },
  {
   "cell_type": "code",
   "execution_count": null,
   "metadata": {},
   "outputs": [],
   "source": [
    "#computing Capon response:\n",
    "def compute_capon(adc_data_cube: np.ndarray):\n",
    "    \n",
    "    #compute the range_fft\n",
    "    rng_fft = np.fft.fftshift(np.fft.fft(adc_data_cube,axis=0),axes=1)\n",
    "\n",
    "    p_capon = np.zeros(shape=(L_rng_bins,I_angle_bins),dtype=np.complex_)\n",
    "\n",
    "    for l in range(L_rng_bins):\n",
    "        # x_n = np.transpose(rng_fft[l,:,:,np.newaxis],axes=(1,0,2))\n",
    "        x_n = np.expand_dims(np.transpose(rng_fft[l,:,:]),axis=-1) #NxMx1\n",
    "        x_n_h = np.conj(np.transpose(x_n,axes=(0,2,1)))\n",
    "\n",
    "        Rxx = np.mean(np.matmul(x_n,x_n_h),axis=0)\n",
    "        Rxx_inv = np.linalg.inv(Rxx)\n",
    "        p = a_phi_H @ Rxx_inv @ a_phi\n",
    "\n",
    "        p_capon[l,:] = 1.0 / p[:,0,0]\n",
    "\n",
    "    return 20 * np.log10(np.abs(p_capon))\n",
    "\n",
    "p_capon = compute_capon(adc_data_cube)"
   ]
  },
  {
   "cell_type": "code",
   "execution_count": null,
   "metadata": {},
   "outputs": [],
   "source": [
    "#conducting a speed test\n",
    "\n",
    "runs = 100\n",
    "\n",
    "start = time.perf_counter()\n",
    "for i in range(runs):\n",
    "    p_capon = compute_capon(adc_data_cube)\n",
    "end = time.perf_counter()\n",
    "\n",
    "print(\"execution time: {}ms\".format(1e3*(end-start)/runs))"
   ]
  },
  {
   "cell_type": "code",
   "execution_count": null,
   "metadata": {},
   "outputs": [],
   "source": [
    "plt.imshow(np.flip(p_capon,axis=0))\n",
    "plt.colorbar()"
   ]
  }
 ],
 "metadata": {
  "kernelspec": {
   "display_name": "cpsl-ti-radar-w50rXwOR-py3.10",
   "language": "python",
   "name": "python3"
  },
  "language_info": {
   "codemirror_mode": {
    "name": "ipython",
    "version": 3
   },
   "file_extension": ".py",
   "mimetype": "text/x-python",
   "name": "python",
   "nbconvert_exporter": "python",
   "pygments_lexer": "ipython3",
   "version": "3.10.13"
  }
 },
 "nbformat": 4,
 "nbformat_minor": 2
}
