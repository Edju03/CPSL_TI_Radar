{
 "cells": [
  {
   "cell_type": "code",
   "execution_count": 1,
   "metadata": {},
   "outputs": [],
   "source": [
    "import socket"
   ]
  },
  {
   "cell_type": "code",
   "execution_count": 2,
   "metadata": {},
   "outputs": [],
   "source": [
    "#specify key addresses\n",
    "\n",
    "FPGA_IP = \"192.168.33.180\"\n",
    "system_IP = \"192.168.33.30\"\n",
    "\n",
    "#specify command port\n",
    "config_port = 4096\n",
    "data_port = 4098\n",
    "\n",
    "#setup addresses\n",
    "config_addr = (system_IP,config_port)\n",
    "data_addr = (system_IP,data_port)\n",
    "\n",
    "#specify commands\n",
    "CONFIG_PACKET_DATA_CMD_CODE = bytearray([0x5a,0xa5,0x0b,0x00,0x06,0x00,0xbe,0x05,0x35,0x0c,0x00,0x00,0xaa,0xee])\n",
    "READ_FPGA_VERSION = bytearray([0x5a,0xa5,0x0e,0x00,0x00,0x00,0xaa,0xee])\n",
    "\n",
    "#setup the socket\n",
    "config_socket = socket.socket(socket.AF_INET,socket.SOCK_DGRAM)\n",
    "config_socket.settimeout(1)\n",
    "\n",
    "#bind the socket to send/receive at address (\"192.168.33.30\",4096)\n",
    "config_socket.bind((system_IP,config_port))\n"
   ]
  },
  {
   "cell_type": "markdown",
   "metadata": {},
   "source": [
    "Send command to configure packet data"
   ]
  },
  {
   "cell_type": "code",
   "execution_count": 3,
   "metadata": {},
   "outputs": [
    {
     "name": "stdout",
     "output_type": "stream",
     "text": [
      "data:b'Z\\xa5\\x0b\\x00\\x00\\x00\\xaa\\xee'\n",
      "addr:('192.168.33.180', 1024)\n"
     ]
    }
   ],
   "source": [
    "\n",
    "#send data to the FPGA at (\"192.168.33.30\",4096)\n",
    "config_socket.sendto(CONFIG_PACKET_DATA_CMD_CODE,(FPGA_IP,config_port))\n",
    "\n",
    "#listen for FPGA response at the binded address of (\"192.168.33.30\",4096)\n",
    "data,addr = config_socket.recvfrom(2048)\n",
    "print(\"data:{}\\naddr:{}\".format(data,addr))\n",
    "\n",
    "#config_socket.sendto(READ_FPGA_VERSION,config_socket)"
   ]
  },
  {
   "cell_type": "markdown",
   "metadata": {},
   "source": [
    "send command to read FPGA version"
   ]
  },
  {
   "cell_type": "code",
   "execution_count": 4,
   "metadata": {},
   "outputs": [
    {
     "name": "stdout",
     "output_type": "stream",
     "text": [
      "data:b'Z\\xa5\\x0e\\x00\\x82\\x04\\xaa\\xee'\n",
      "addr:('192.168.33.180', 1024)\n"
     ]
    }
   ],
   "source": [
    "config_socket.sendto(READ_FPGA_VERSION,(FPGA_IP,config_port))\n",
    "#listen for FPGA response at the binded address of (\"192.168.33.30\",4096)\n",
    "data,addr = config_socket.recvfrom(2048)\n",
    "print(\"data:{}\\naddr:{}\".format(data,addr))"
   ]
  },
  {
   "cell_type": "code",
   "execution_count": 5,
   "metadata": {},
   "outputs": [
    {
     "name": "stdout",
     "output_type": "stream",
     "text": [
      "b'\\xbe\\x05\\x19\\x00\\x00\\x00'\n"
     ]
    }
   ],
   "source": [
    "import struct\n",
    "\n",
    "msg = struct.pack('<HHH',1470,25,0)\n",
    "print(msg)"
   ]
  }
 ],
 "metadata": {
  "kernelspec": {
   "display_name": "cpsl-ti-radar-sKLwgkUZ-py3.10",
   "language": "python",
   "name": "python3"
  },
  "language_info": {
   "codemirror_mode": {
    "name": "ipython",
    "version": 3
   },
   "file_extension": ".py",
   "mimetype": "text/x-python",
   "name": "python",
   "nbconvert_exporter": "python",
   "pygments_lexer": "ipython3",
   "version": "3.11.5"
  },
  "orig_nbformat": 4
 },
 "nbformat": 4,
 "nbformat_minor": 2
}
