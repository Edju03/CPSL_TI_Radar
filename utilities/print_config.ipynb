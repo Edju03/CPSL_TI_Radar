{
 "cells": [
  {
   "cell_type": "code",
   "execution_count": 1,
   "metadata": {},
   "outputs": [],
   "source": [
    "import os\n",
    "os.chdir(\"../CPSL_TI_Radar\")\n",
    "from CPSL_TI_Radar.ConfigManager import ConfigManager\n",
    "\n",
    "#specify the configuration path\n",
    "config_folder_path = \"/home/david/CPSL_TI_Radar/configurations\"\n",
    "config_file = \"DCA1000/custom_configs/ISAR_mocap.cfg\"\n",
    "# config_file = \"IWR_Demos/rad_nav_configs/6843_lr_CFAR_7dB_3D.cfg\"\n",
    "\n",
    "path = os.path.join(config_folder_path,config_file)\n",
    "\n",
    "config_manager = ConfigManager()\n",
    "config_manager.load_config_from_cfg(path)"
   ]
  },
  {
   "cell_type": "code",
   "execution_count": 2,
   "metadata": {},
   "outputs": [],
   "source": [
    "def print_dict(d, indent=0):\n",
    "    for key, value in d.items():\n",
    "        print('\\t' * indent + str(key))\n",
    "        if isinstance(value, dict):\n",
    "            print_dict(value, indent+1)\n",
    "        else:\n",
    "            print('\\t' * (indent+1) + str(value))"
   ]
  },
  {
   "cell_type": "code",
   "execution_count": 3,
   "metadata": {},
   "outputs": [
    {
     "name": "stdout",
     "output_type": "stream",
     "text": [
      "dfeDataOutputMode\n",
      "\tmodeType\n",
      "\t\t1\n",
      "channelCfg\n",
      "\trxChannelEn\n",
      "\t\t15\n",
      "\ttxChannelEn\n",
      "\t\t1\n",
      "\tcascading\n",
      "\t\t0\n",
      "adcCfg\n",
      "\tnumADCBits\n",
      "\t\t2\n",
      "\tadcOutputFmt\n",
      "\t\t1\n",
      "adcbufCfg\n",
      "\tsubFrameIdx\n",
      "\t\tNone\n",
      "\tadcOutputFmt\n",
      "\t\t0\n",
      "\tSampleSwap\n",
      "\t\t1\n",
      "\tChannelInterleave\n",
      "\t\t0\n",
      "\tchirpThreshold\n",
      "\t\t1\n",
      "profileCfg\n",
      "\tprofileId\n",
      "\t\t0\n",
      "\tstartFreq\n",
      "\t\t77\n",
      "\tidleTime\n",
      "\t\t147\n",
      "\tadcStartTime\n",
      "\t\t10\n",
      "\trampEndTime\n",
      "\t\t53\n",
      "\ttxOutPower\n",
      "\t\t0\n",
      "\ttxPhaseShifter\n",
      "\t\t0\n",
      "\tfreqSlope\n",
      "\t\t74.978\n",
      "\ttxStartTime\n",
      "\t\t0\n",
      "\tadcSamples\n",
      "\t\t80\n",
      "\tsampleRate\n",
      "\t\t2000\n",
      "\thpfCornerFreq1\n",
      "\t\t0\n",
      "\thpfCornerFreq2\n",
      "\t\t0\n",
      "\trxGain\n",
      "\t\t30\n",
      "chirpCfg\n",
      "\t[{'startIndex': '0', 'endIndex': '0', 'profile': '0', 'startFreqVariation': '0', 'freqSlopVariation': '0', 'idleTimeVariation': '0', 'ADCStartTimeVariation': '0', 'txMask': '1'}]\n",
      "frameCfg\n",
      "\tstartIndex\n",
      "\t\t0\n",
      "\tendIndex\n",
      "\t\t0\n",
      "\tloops\n",
      "\t\t250\n",
      "\tframes\n",
      "\t\t0\n",
      "\tperiodicity\n",
      "\t\t100\n",
      "\ttrigger\n",
      "\t\t1\n",
      "\ttriggerDelay\n",
      "\t\t0\n",
      "lowPower\n",
      "\tchain\n",
      "\t\t0\n",
      "\tadcMode\n",
      "\t\t1\n"
     ]
    }
   ],
   "source": [
    "#print out the configuration\n",
    "print_dict(config_manager.radar_config)"
   ]
  },
  {
   "cell_type": "code",
   "execution_count": 4,
   "metadata": {},
   "outputs": [
    {
     "name": "stdout",
     "output_type": "stream",
     "text": [
      "range\n",
      "\tnum_range_bins\n",
      "\t\t128.0\n",
      "\trange_res\n",
      "\t\t0.04998007048734295\n",
      "\trange_idx_to_m\n",
      "\t\t0.031237544054589346\n",
      "\trange_max\n",
      "\t\t3.9984056389874363\n",
      "velocity\n",
      "\tnum_doppler_bins\n",
      "\t\t250.0\n",
      "\tvel_res\n",
      "\t\t0.03893408545454546\n",
      "\tvel_idx_to_m_per_s\n",
      "\t\t0.03893408545454546\n",
      "\tvel_max\n",
      "\t\t4.8667606818181826\n",
      "angle\n",
      "\tnum_rx_antennas\n",
      "\t\t4\n",
      "\tvirtual_anetnnas_enabled\n",
      "\t\tFalse\n",
      "\tnum_az_antennas\n",
      "\t\t4\n"
     ]
    }
   ],
   "source": [
    "config_manager.compute_radar_perforance()\n",
    "print_dict(config_manager.radar_performance)"
   ]
  }
 ],
 "metadata": {
  "kernelspec": {
   "display_name": "Python 3",
   "language": "python",
   "name": "python3"
  },
  "language_info": {
   "codemirror_mode": {
    "name": "ipython",
    "version": 3
   },
   "file_extension": ".py",
   "mimetype": "text/x-python",
   "name": "python",
   "nbconvert_exporter": "python",
   "pygments_lexer": "ipython3",
   "version": "3.11.5"
  }
 },
 "nbformat": 4,
 "nbformat_minor": 2
}
