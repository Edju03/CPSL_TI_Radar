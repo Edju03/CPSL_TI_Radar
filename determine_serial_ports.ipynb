{
 "cells": [
  {
   "cell_type": "markdown",
   "metadata": {},
   "source": [
    " Search for comm ports corresponding to the device\n",
    "The following lines of code can be used to search for and identify the comm ports corresponding to the mmWave Radars. Additionally, note the following when dealing with a linux device:\n",
    "1. to locate the serial ports, use the commnad: \"ls /dev/ttyACM*\" to find the serial ports\n",
    "2. if there is an error saying that access is denied, use the command \"sudo usermod -a -G dialout $USER\""
   ]
  },
  {
   "cell_type": "code",
   "execution_count": null,
   "metadata": {},
   "outputs": [],
   "source": [
    "import serial.tools.list_ports;\n",
    "print([comport.device for comport in serial.tools.list_ports.comports()])"
   ]
  }
 ],
 "metadata": {
  "language_info": {
   "name": "python"
  },
  "orig_nbformat": 4
 },
 "nbformat": 4,
 "nbformat_minor": 2
}
